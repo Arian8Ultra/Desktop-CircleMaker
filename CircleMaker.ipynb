{
 "cells": [
  {
   "cell_type": "code",
   "execution_count": null,
   "metadata": {},
   "outputs": [
    {
     "name": "stdout",
     "output_type": "stream",
     "text": [
      "Requirement already satisfied: pywin32 in c:\\users\\17027\\appdata\\roaming\\python\\python311\\site-packages (309)\n",
      "Note: you may need to restart the kernel to use updated packages.\n"
     ]
    },
    {
     "name": "stderr",
     "output_type": "stream",
     "text": [
      "\n",
      "[notice] A new release of pip is available: 23.2.1 -> 25.0.1\n",
      "[notice] To update, run: python.exe -m pip install --upgrade pip\n"
     ]
    }
   ],
   "source": [
    "import win32gui\n",
    "import win32con\n",
    "import math\n",
    "\n",
    "# Define missing constants\n",
    "LVM_GETITEMCOUNT = 0x1004\n",
    "LVM_SETITEMPOSITION = 0x100F\n",
    "\n",
    "# Helper function for MAKELONG\n",
    "def MAKELONG(low, high):\n",
    "    return (high << 16) | (low & 0xFFFF)\n",
    "\n",
    "# Retrieve handle of desktop window\n",
    "hwnd = win32gui.FindWindow(\"Progman\", None)\n",
    "hwnd = win32gui.FindWindowEx(hwnd, 0, \"SHELLDLL_DefView\", None)\n",
    "hwnd = win32gui.FindWindowEx(hwnd, 0, \"SysListView32\", None)\n",
    "\n",
    "# Total number of icons\n",
    "count = win32gui.SendMessage(hwnd, LVM_GETITEMCOUNT, 0, 0)\n",
    "\n",
    "# Dynamic radius based on icon count\n",
    "radius = max(150, count * 15)  # Minimum radius of 150, increases by 20 per icon\n",
    "center_x = 960  # assuming 1920x1080 resolution\n",
    "center_y = 540\n",
    "\n",
    "# Set each icon's position\n",
    "for i in range(count):\n",
    "    angle = 2 * math.pi * i / count\n",
    "    x = int(center_x + radius * math.cos(angle))\n",
    "    y = int(center_y + radius * math.sin(angle))\n",
    "    \n",
    "    # Send position change message\n",
    "    win32gui.SendMessage(hwnd, LVM_SETITEMPOSITION, i, MAKELONG(x, y))\n"
   ]
  }
 ],
 "metadata": {
  "kernelspec": {
   "display_name": "Python 3",
   "language": "python",
   "name": "python3"
  },
  "language_info": {
   "codemirror_mode": {
    "name": "ipython",
    "version": 3
   },
   "file_extension": ".py",
   "mimetype": "text/x-python",
   "name": "python",
   "nbconvert_exporter": "python",
   "pygments_lexer": "ipython3",
   "version": "3.11.5"
  }
 },
 "nbformat": 4,
 "nbformat_minor": 2
}
